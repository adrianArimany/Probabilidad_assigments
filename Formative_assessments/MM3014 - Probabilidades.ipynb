{
 "cells": [
  {
   "cell_type": "markdown",
   "id": "99008aca",
   "metadata": {},
   "source": [
    "# Probabilidades\n",
    "\n",
    "**Instrucciones**: Escriba un programa en Python con la solución de los siguientes ejercicios. **Deberá generar el listado de elementos que cumplan la o las condiciones indicadas.**"
   ]
  },
  {
   "cell_type": "markdown",
   "id": "0c759243",
   "metadata": {},
   "source": [
    "## Ejercicio 1.\n",
    "\n",
    "Dos números del 1 al 10 se seleccionan sucesivamente al azar. \n",
    "\n",
    "¿Cuál es la probabilidad de que su producto sea menor o igual que 50?"
   ]
  },
  {
   "cell_type": "code",
   "execution_count": null,
   "id": "07e7b79e",
   "metadata": {},
   "outputs": [],
   "source": []
  },
  {
   "cell_type": "markdown",
   "id": "cbede247",
   "metadata": {},
   "source": [
    "## Ejercicio 2.\n",
    "\n",
    "Si se lanza un dado 4 veces, ¿cuál es la probabilidad de que salga 6 al menos una vez?"
   ]
  },
  {
   "cell_type": "code",
   "execution_count": null,
   "id": "2f64130e",
   "metadata": {},
   "outputs": [],
   "source": []
  },
  {
   "cell_type": "markdown",
   "id": "a8ed63d0",
   "metadata": {},
   "source": [
    "## Ejercicio 3. \n",
    "\n",
    "En un colegio, 3/4 de los estudiantes participan en deportes, 1/2 en actividades culturales y 1/8 en ninguna de ellas. Calcule la probabilidad de que un estudiante participe:\n",
    "\n",
    "a) en deportes o en actividades culturales\n",
    "\n",
    "b) tanto deportes como actividades culturales\n",
    "\n",
    "c) actividades culturales pero no deportivas"
   ]
  },
  {
   "cell_type": "code",
   "execution_count": null,
   "id": "74445902",
   "metadata": {},
   "outputs": [],
   "source": []
  },
  {
   "cell_type": "markdown",
   "id": "c1a1df1b",
   "metadata": {},
   "source": [
    "## Ejercicio 4.\n",
    "\n",
    "Una urna contiene 5 pelotas rojas, 6 azules y 8 verdes. Si se selecciona al azar un conjunto de 3 pelotas, ¿cuál es la probabilidad de que cada una de las pelotas sea:\n",
    "\n",
    "a) del mismo color?\n",
    "\n",
    "b) de colores diferentes? "
   ]
  },
  {
   "cell_type": "code",
   "execution_count": null,
   "id": "0c04be52",
   "metadata": {},
   "outputs": [],
   "source": []
  },
  {
   "cell_type": "markdown",
   "id": "a1f286c8",
   "metadata": {},
   "source": [
    "## Ejercicio 5.\n",
    "\n",
    "Repita el ejercicio anterior suponiendo que ahora cada vez que se selecciona una pelota, se anota su color y se vuelve a introducir en la urna antes de la siguiente selección; esto se conoce como _muestreo con reemplazo._"
   ]
  },
  {
   "cell_type": "code",
   "execution_count": null,
   "id": "ef6885cb",
   "metadata": {},
   "outputs": [],
   "source": []
  },
  {
   "cell_type": "markdown",
   "id": "47bd344a",
   "metadata": {},
   "source": [
    "## Ejercicio 6.\n",
    "\n",
    "Un profesor da a su clase un conjunto de 10 problemas con la información de que el examen final consistirá en una selección aleatoria de 5 de ellos. Si un estudiante ha resuelto 7 de los problemas, ¿cuál es la probabilidad de que conteste correctamente:\n",
    "\n",
    "a) los 5 problemas?\n",
    "\n",
    "b) al menos 4 de los problemas?"
   ]
  },
  {
   "cell_type": "code",
   "execution_count": null,
   "id": "85a0b0b0",
   "metadata": {},
   "outputs": [],
   "source": []
  }
 ],
 "metadata": {
  "kernelspec": {
   "display_name": "Python 3 (ipykernel)",
   "language": "python",
   "name": "python3"
  },
  "language_info": {
   "codemirror_mode": {
    "name": "ipython",
    "version": 3
   },
   "file_extension": ".py",
   "mimetype": "text/x-python",
   "name": "python",
   "nbconvert_exporter": "python",
   "pygments_lexer": "ipython3",
   "version": "3.9.7"
  }
 },
 "nbformat": 4,
 "nbformat_minor": 5
}
