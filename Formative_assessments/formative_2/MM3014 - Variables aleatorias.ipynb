{
 "cells": [
  {
   "cell_type": "markdown",
   "id": "a85866cd",
   "metadata": {},
   "source": [
    "# Adrian Arimany Zamora - 211063"
   ]
  },
  {
   "cell_type": "markdown",
   "id": "3062127c",
   "metadata": {},
   "source": [
    "# Variables aleatorias\n",
    "\n",
    "\n",
    "\n",
    "Sea $(S,\\mathcal{S})$ un espacio muestral.\n",
    "\n",
    "Un mapeo $X:S\\to \\mathbb{R}$ se llama **variable aleatoria** si el conjunto $\\{\\omega\\in S:X(\\omega)\\leq x\\}\\in \\mathcal{S},\\ \\forall x\\in \\mathbb{R}$."
   ]
  },
  {
   "cell_type": "code",
   "execution_count": 3,
   "id": "7107e56b",
   "metadata": {},
   "outputs": [],
   "source": [
    "import itertools as it\n",
    "import pandas as pd\n",
    "import math"
   ]
  },
  {
   "cell_type": "markdown",
   "id": "4ac7e987",
   "metadata": {},
   "source": [
    "## Ejemplo 3.\n",
    "\n",
    "Supongamos que se lanzan 2 dados. Sea $X:S\\to \\mathbb{R}$ con $X((m,n))=m+n$ una variable aleatoria ($X$ es la suma de los dados).\n",
    "Los siguientes son ejemplos de eventos:"
   ]
  },
  {
   "cell_type": "code",
   "execution_count": 5,
   "id": "25e6dfe4",
   "metadata": {
    "scrolled": true
   },
   "outputs": [
    {
     "name": "stdout",
     "output_type": "stream",
     "text": [
      "X=1 es set()\n",
      "X≤3 es {(1, 1), (1, 2), (2, 1)}\n",
      "X≥10 es {(5, 5), (6, 5), (4, 6), (6, 4), (5, 6), (6, 6)}\n",
      "2≤X≤12 es {(3, 4), (4, 3), (3, 1), (5, 4), (4, 6)}\n"
     ]
    }
   ],
   "source": [
    "\n",
    "A = set({1,2,3,4,5,6})\n",
    "S = set(it.product(A,repeat=2))\n",
    "\n",
    "X1 = set([k for k in S if k[0]+k[1]==1])\n",
    "X2 = set([k for k in S if k[0]+k[1]<=3])\n",
    "X3 = set([k for k in S if k[0]+k[1]>=10])\n",
    "X4 = set([k for k in S if 2<=k[0]+k[1]<=12])\n",
    "\n",
    "print(f\"X=1 es {X1}\")\n",
    "print(f\"X≤3 es {X2}\")\n",
    "print(f\"X≥10 es {X3}\")\n",
    "print(f\"2≤X≤12 es {set(list(X4)[0:5])}\")"
   ]
  },
  {
   "attachments": {},
   "cell_type": "markdown",
   "id": "9df3e366",
   "metadata": {},
   "source": [
    "## Ejercicio 4.\n",
    "\n",
    "Supongamos que se lanza una moneda cuatro veces. Sea $X$ el número de caras en la secuencia observada una variable aleatoria.\n",
    "\n",
    "a. Elabore una tabla de frecuencias de los valores de $X$.\n",
    "\n",
    "b. Liste los resultados del evento $\\{X=3\\}$."
   ]
  },
  {
   "cell_type": "code",
   "execution_count": null,
   "id": "6ffc7012",
   "metadata": {},
   "outputs": [
    {
     "name": "stdout",
     "output_type": "stream",
     "text": [
      "There is a total of 16 possible outcomes\n",
      "The sum of the frequencies is 16 and it is equal to the number of possible outcomes\n",
      "The frequencies are: {0: 1, 1: 4, 2: 6, 3: 4, 4: 1}\n",
      "The number of events where (X=3) is: 4\n",
      "The events where (X=3) are: [(0, 1, 1, 1), (1, 0, 1, 1), (1, 1, 0, 1), (1, 1, 1, 0)]\n"
     ]
    }
   ],
   "source": [
    "### problem a:\n",
    "def coin(n):\n",
    "    #Assuming each observed random vaariable is independent, by the multiplication rule we can form a product of independent random variables\n",
    "    #Here we define p = 1 (as success or the observaed random variable is a head); q = 0 (failure or the observed random variable is a tail)\n",
    "    return it.product([0, 1], repeat=n)\n",
    "\n",
    "def freq_table(iterable):\n",
    "    #Define the list\n",
    "    freq = {}\n",
    "    for x in iterable:\n",
    "        heads_count = sum(x) #We sum all the observed heads in the 4-tuple of (0,1)\n",
    "        freq[heads_count] = freq.get(heads_count, 0) + 1 #Counts the frequency that there is a success p in the tuple.\n",
    "    return freq #returns the event {X=0:frequency, X=1: frequency,..., X=4: frequency}\n",
    "\n",
    "if sum(freq_table(coin(4)).values()) == len(list(coin(4))): #We check if the sum of the 16 possible outcomes is equal to the number of possible outcomes\n",
    "    print(f\"There is a total of {len(list(coin(4)))} possible outcomes\")\n",
    "    print(f\"The sum of the frequencies is {sum(freq_table(coin(4)).values())} and it is equal to the number of possible outcomes\")\n",
    "    print(f\"The frequencies are: {freq_table(coin(4))}\")\n",
    "else:\n",
    "    print(\"Error: The sum of the frequencies is not equal to the number of possible outcomes\") \n",
    "    \n",
    "### probelm b:\n",
    "\n",
    "#Notice the following like saying {X = n}, where n is the observaed value\n",
    "def exact_event(n):\n",
    "    outcomes = [x for x in coin(4) if sum(x) == n] #So the list is stored in a single line\n",
    "    if outcomes:\n",
    "        print(f\"The number of events where (X={n}) is:\", len(outcomes))\n",
    "        print(f\"The events where (X={n}) are:\", outcomes)\n",
    "    else:\n",
    "        print(f\"Notice: There are no events where (X={n})\")\n",
    "exact_event(3)"
   ]
  },
  {
   "cell_type": "markdown",
   "id": "82f568e7",
   "metadata": {},
   "source": [
    "## Ejercicio 5.\n",
    "\n",
    "Supongamos que se lanzan tres dados. Sean $X$ la suma de los dados y $Y$ el producto de los dados, variables aleatorias.\n",
    "\n",
    "a. Elabore una tabla de frecuencias de los valores de $X$. ¿Cuál es el más frecuente? ¿Cuántas veces ocurrió?\n",
    "\n",
    "b. Elabore una tabla de frecuencias de los valores de $Y$. ¿Cuál es el más frecuente? ¿Cuántas veces ocurrió?\n",
    "\n",
    "c. Liste los resultados del evento $\\{X\\leq 5\\}$.\n",
    "\n",
    "d. Liste los resultados del evento $\\{8\\leq Y\\leq 12\\}$."
   ]
  },
  {
   "cell_type": "code",
   "execution_count": null,
   "id": "00294377",
   "metadata": {},
   "outputs": [
    {
     "name": "stdout",
     "output_type": "stream",
     "text": [
      "The sum of the frequencies is 216 and it is equal to the number of possible outcomes\n",
      "The frequencies are: {3: 1, 4: 3, 5: 6, 6: 10, 7: 15, 8: 21, 9: 25, 10: 27, 11: 27, 12: 25, 13: 21, 14: 15, 15: 10, 16: 6, 17: 3, 18: 1}\n",
      "There are 2 highest frequencies with 27 at X=10, 11\n"
     ]
    }
   ],
   "source": [
    "### Inciso a:\n",
    "def die_sumX(n):\n",
    "    #Throws the die n times, then sums them up, storing a int; remember that the die only has 6 sides\n",
    "    return (sum(x) for x in it.product(range(1, 7), repeat=n))\n",
    "\n",
    "def freq_table_sumX(iterable):\n",
    "    #Returns the frequency of each thrown die\n",
    "    freq = {}\n",
    "    for x in iterable:\n",
    "        freq[x] = freq.get(x, 0) + 1\n",
    "    return freq\n",
    "\n",
    "#Notice that the highest frequency is not necessary one single observation.\n",
    "def highest_frequencies(freq):\n",
    "    highest_freq = max(freq.values())\n",
    "    return [k for k,v in freq.items() if v == highest_freq]\n",
    "\n",
    "\n",
    "#The parameter is asking for the number that the 6-sided die will be thrown\n",
    "def frequency_table_sumX_result(n):\n",
    "    freq = freq_table_sumX(die_sumX(n))\n",
    "    if sum(freq.values()) == len(list(die_sumX(n))):\n",
    "        print(f\"The sum of the frequencies is {sum(freq.values())} and it is equal to the number of possible outcomes\")\n",
    "        print(f\"The frequencies are: {freq}\")\n",
    "        print(\"Also: \")\n",
    "        highest_freqs = highest_frequencies(freq)\n",
    "        if len(highest_freqs) > 1:\n",
    "            print(f\"There are {len(highest_freqs)} highest frequencies of {max(freq.values())} at X={', '.join(map(str, highest_freqs))}\")\n",
    "        else:\n",
    "            print(f\"The highest frequency is {max(freq.values())} at X={max(freq, key=freq.get)}\")\n",
    "    else:\n",
    "        print(\"Error: The sum of the frequencies is not equal to the number of possible outcomes\")\n",
    "\n",
    "frequency_table_sumX_result(3)"
   ]
  },
  {
   "cell_type": "code",
   "execution_count": null,
   "id": "1f36f307",
   "metadata": {},
   "outputs": [
    {
     "name": "stdout",
     "output_type": "stream",
     "text": [
      "The sum of the frequencies is 216 and it is equal to the number of possible outcomes\n",
      "The frequencies are: {1: 1, 2: 3, 3: 3, 4: 6, 5: 3, 6: 9, 8: 7, 10: 6, 12: 15, 9: 3, 15: 6, 18: 9, 16: 6, 20: 9, 24: 15, 25: 3, 30: 12, 36: 12, 32: 3, 40: 6, 48: 9, 50: 3, 60: 12, 72: 9, 27: 1, 45: 3, 54: 3, 75: 3, 90: 6, 108: 3, 64: 1, 80: 3, 96: 3, 100: 3, 120: 6, 144: 3, 125: 1, 150: 3, 180: 3, 216: 1}\n",
      "Also: \n",
      "There are 2 highest frequencies of 15 at Y=12, 24\n"
     ]
    }
   ],
   "source": [
    "### Inciso b:\n",
    "\n",
    "#The coding logic is the same as before, only that this time it stores the product of the 6-sided die\n",
    "\n",
    "def die_productY(n):\n",
    "    return (math.prod(x) for x in it.product(range(1, 7), repeat=n))\n",
    "\n",
    "def freq_table_productY(iterable):\n",
    "    freq = {}\n",
    "    for y in iterable:\n",
    "        freq[y] = freq.get(y, 0) + 1\n",
    "    return freq\n",
    "\n",
    "def frequency_table_productY_result(n):\n",
    "    freq = freq_table_productY(die_productY(n))\n",
    "    if sum(freq.values()) == len(list(die_productY(n))):\n",
    "        print(f\"The sum of the frequencies is {sum(freq.values())} and it is equal to the number of possible outcomes\")\n",
    "        print(f\"The frequencies are: {freq}\")\n",
    "        print(\"Also: \")\n",
    "        highest_freqs = highest_frequencies(freq)\n",
    "        if len(highest_freqs) > 1:\n",
    "            print(f\"There are {len(highest_freqs)} highest frequencies of {max(freq.values())} at Y={', '.join(map(str, highest_freqs))}\")\n",
    "        else:\n",
    "            print(f\"The highest frequency is {max(freq.values())} at Y={max(freq, key=freq.get)}\")\n",
    "    else:\n",
    "        print(\"Error: The sum of the frequencies is not equal to the number of possible outcomes\")\n",
    "\n",
    "frequency_table_productY_result(3)"
   ]
  },
  {
   "cell_type": "code",
   "execution_count": null,
   "id": "048b1ce0",
   "metadata": {},
   "outputs": [
    {
     "name": "stdout",
     "output_type": "stream",
     "text": [
      "The number of events where (X<=5) is: 10\n",
      "The events where (X<=5) are: [3, 4, 5, 4, 5, 5, 4, 5, 5, 5]\n"
     ]
    }
   ],
   "source": [
    "### inciso c:\n",
    "\n",
    "# Liste los resultados del evento $\\{X\\leq 5\\}$.\n",
    "\n",
    "\n",
    "#n = upper limit and die_count = the number of dice thrown\n",
    "def leq_sum(n, die_count):\n",
    "    outcomes = [x for x in die_sumX(die_count) if x <= n]\n",
    "    if outcomes:\n",
    "        print(f\"The number of events where (X<={n}) is:\", len(outcomes))\n",
    "        print(f\"The events where (X<={n}) are:\", outcomes)\n",
    "    else:\n",
    "        print(f\"Notice: There are no events where (X<={n})\")\n",
    "leq_sum(n = 5, die_count=3)\n"
   ]
  },
  {
   "cell_type": "markdown",
   "id": "9a30e73d",
   "metadata": {},
   "source": [
    "The listed events don't make much sense, as list in this example, so to make sense lets redo some of the code so that the values are stored as a data frame."
   ]
  },
  {
   "cell_type": "code",
   "execution_count": null,
   "id": "e112cef8",
   "metadata": {},
   "outputs": [
    {
     "name": "stdout",
     "output_type": "stream",
     "text": [
      "The number of events where (X<=5) is: 10\n",
      " Die 1  Die 2  Die 3\n",
      "     1      1      1\n",
      "     1      1      2\n",
      "     1      1      3\n",
      "     1      2      1\n",
      "     1      2      2\n",
      "     1      3      1\n",
      "     2      1      1\n",
      "     2      1      2\n",
      "     2      2      1\n",
      "     3      1      1\n"
     ]
    }
   ],
   "source": [
    "def die_sumX_df(n):\n",
    "    return ((x, sum(x)) for x in it.product(range(1, 7), repeat=n))\n",
    "\n",
    "\n",
    "def leq_sum_df(n, dice_count=3):\n",
    "    outcomes = [(roll, total) for roll, total in die_sumX_df(dice_count) if total <= n]\n",
    "\n",
    "    if outcomes:\n",
    "        df = pd.DataFrame([x[0] for x in outcomes], columns=[f'Die {i+1}' for i in range(dice_count)])\n",
    "        print(f\"The number of events where (X<={n}) is: {len(outcomes)}\")\n",
    "        print(df.to_string(index=False))\n",
    "    else:\n",
    "        print(f\"Notice: There are no events where (X<={n})\")\n",
    "\n",
    "\n",
    "leq_sum_df(5)"
   ]
  },
  {
   "cell_type": "markdown",
   "id": "4abce790",
   "metadata": {},
   "source": [
    "The idea being that the sum of each row equates to be less or equal to 5. Which if you sum them all and put it in a vector row, you get what I obtained before."
   ]
  },
  {
   "cell_type": "code",
   "execution_count": null,
   "id": "3681541e",
   "metadata": {},
   "outputs": [
    {
     "name": "stdout",
     "output_type": "stream",
     "text": [
      "The number of events where (8<=Y<=12) is: 31\n",
      "The events where (8<=Y<=12) are: [8, 10, 12, 9, 12, 8, 12, 10, 12, 8, 10, 12, 8, 12, 12, 8, 10, 12, 9, 12, 12, 9, 12, 8, 12, 8, 12, 10, 10, 12, 12]\n"
     ]
    }
   ],
   "source": [
    "### inciso d:\n",
    "\n",
    "# Liste los resultados del evento $\\{8\\leq Y\\leq 12\\}$.\n",
    "\n",
    "#n = the lower limig, m = the upper limit, and die_count = the number of dice thrown\n",
    "def leq_product(n,m, die_count):\n",
    "    outcomes = [y for y in die_productY(die_count) if n <= y <= m]\n",
    "    if outcomes:\n",
    "        print(f\"The number of events where ({n}<=Y<={m}) is:\", len(outcomes))\n",
    "        print(f\"The events where ({n}<=Y<={m}) are:\", outcomes)\n",
    "    else:\n",
    "        print(f\"Notice: There are no events where ({n}<=Y<={m})\")\n",
    "leq_product(n = 8, m = 12, die_count=3)\n",
    "#Again what you are seeing as events are just the row vector for each die multiplied that falls within the defined interval"
   ]
  }
 ],
 "metadata": {
  "kernelspec": {
   "display_name": "Python 3",
   "language": "python",
   "name": "python3"
  },
  "language_info": {
   "codemirror_mode": {
    "name": "ipython",
    "version": 3
   },
   "file_extension": ".py",
   "mimetype": "text/x-python",
   "name": "python",
   "nbconvert_exporter": "python",
   "pygments_lexer": "ipython3",
   "version": "3.12.3"
  }
 },
 "nbformat": 4,
 "nbformat_minor": 5
}
