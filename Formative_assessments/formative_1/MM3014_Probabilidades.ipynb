{
 "cells": [
  {
   "cell_type": "markdown",
   "id": "99008aca",
   "metadata": {},
   "source": [
    "# Probabilidades\n",
    "\n",
    "**Instrucciones**: Escriba un programa en Python con la solución de los siguientes ejercicios. **Deberá generar el listado de elementos que cumplan la o las condiciones indicadas.**\n",
    "\n",
    "# Autor: Adian Arimany and Daniel Santizo\n"
   ]
  },
  {
   "cell_type": "code",
   "execution_count": 2,
   "id": "14935321",
   "metadata": {},
   "outputs": [],
   "source": [
    "#Import tools\n",
    "import itertools as it"
   ]
  },
  {
   "cell_type": "markdown",
   "id": "0c759243",
   "metadata": {},
   "source": [
    "## Ejercicio 1.\n",
    "\n",
    "Dos números del 1 al 10 se seleccionan sucesivamente al azar. \n",
    "\n",
    "¿Cuál es la probabilidad de que su producto sea menor o igual que 50?"
   ]
  },
  {
   "cell_type": "code",
   "execution_count": 3,
   "id": "07e7b79e",
   "metadata": {},
   "outputs": [
    {
     "name": "stdout",
     "output_type": "stream",
     "text": [
      "La probabilidad de que el producto de dos números entre 1 al 10 sea menor o igual que 50: 0.8100\n"
     ]
    }
   ],
   "source": [
    "#Hecho por Adrian Arimany\n",
    "x = range(1,11)\n",
    "total_cases = len(list(it.product(x,x)))\n",
    "favorable_cases = len([k for k in it.product(x,x) if k[0]*k[1] <= 50])\n",
    "probability = favorable_cases / total_cases\n",
    "print(f\"La probabilidad de que el producto de dos números entre 1 al 10 sea menor o igual que 50: {probability:.4f}\") \n"
   ]
  },
  {
   "cell_type": "markdown",
   "id": "cbede247",
   "metadata": {},
   "source": [
    "## Ejercicio 2.\n",
    "\n",
    "Si se lanza un dado 4 veces, ¿cuál es la probabilidad de que salga 6 al menos una vez?"
   ]
  },
  {
   "cell_type": "code",
   "execution_count": 4,
   "id": "2f64130e",
   "metadata": {},
   "outputs": [
    {
     "name": "stdout",
     "output_type": "stream",
     "text": [
      "La probabilidad de que un dado lanzado cuatro veces salga 6 al menos una vez es: 0.5177\n"
     ]
    }
   ],
   "source": [
    "#Hecho por Adrian Arimany\n",
    "x =range(1,7) #this is your die, with probabiliy 1/6\n",
    "total_cases = len(list(it.product(x,x,x,x))) #we roll the dice 4 times \n",
    "favorable_cases = len([k for k in it.product(x,x,x,x) if k[0] == 6 or k[1] == 6 or k[2] == 6 or k[3] == 6]) #as long as one die rolls a 6, we take that result as success.\n",
    "probability = favorable_cases / total_cases\n",
    "print(f\"La probabilidad de que un dado lanzado cuatro veces salga 6 al menos una vez es: {probability:.4f}\")"
   ]
  },
  {
   "cell_type": "markdown",
   "id": "a8ed63d0",
   "metadata": {},
   "source": [
    "## Ejercicio 3. \n",
    "\n",
    "En un colegio, 3/4 de los estudiantes participan en deportes, 1/2 en actividades culturales y 1/8 en ninguna de ellas. Calcule la probabilidad de que un estudiante participe:\n",
    "\n",
    "a) en deportes o en actividades culturales\n",
    "\n",
    "b) tanto deportes como actividades culturales\n",
    "\n",
    "c) actividades culturales pero no deportivas"
   ]
  },
  {
   "cell_type": "code",
   "execution_count": 5,
   "id": "74445902",
   "metadata": {},
   "outputs": [
    {
     "name": "stdout",
     "output_type": "stream",
     "text": [
      "La probabiliad de que un estudiante este en derpotes o culturales es: 0.875\n",
      "La probabilidad de que un estudiante este en deportes como en actividades cultares es: 0.375\n",
      "La probabiliad que un estudiante haga actividades culturales pero no haga deportes es: 0.125\n"
     ]
    }
   ],
   "source": [
    "# Hecho por Adrian Arimany\n",
    "Deporte = 3/4\n",
    "Culturales = 1/2\n",
    "Complement_x_And_y = 1/8\n",
    "\n",
    "#By Axiom 2, we know that the P(SampleSpace) = 1, \n",
    "\n",
    "# a) en deportes o en actividades culturales\n",
    "X_OR_Y = 1 - Complement_x_And_y #= P(Deporte OR Culturales)\n",
    "print(f\"La probabiliad de que un estudiante este en derpotes o culturales es: {X_OR_Y}\")\n",
    "\n",
    "# b) tanto deportes como actividades culturales\n",
    "X_AND_Y = Deporte + Culturales - X_OR_Y #by properties of the axioms of probability\n",
    "print(f\"La probabilidad de que un estudiante este en deportes como en actividades cultares es: {X_AND_Y}\")\n",
    "\n",
    "\n",
    "\n",
    "# c) actividades culturales pero no deportivas\n",
    "Y_MINUS_X = Culturales - X_AND_Y #by properties of the axioms of probability\n",
    "print(f\"La probabiliad que un estudiante haga actividades culturales pero no haga deportes es: {Y_MINUS_X}\")\n"
   ]
  },
  {
   "cell_type": "markdown",
   "id": "c1a1df1b",
   "metadata": {},
   "source": [
    "## Ejercicio 4.\n",
    "\n",
    "Una urna contiene 5 pelotas rojas, 6 azules y 8 verdes. Si se selecciona al azar un conjunto de 3 pelotas, ¿cuál es la probabilidad de que cada una de las pelotas sea:\n",
    "\n",
    "a) del mismo color?\n",
    "\n",
    "b) de colores diferentes? "
   ]
  },
  {
   "cell_type": "code",
   "execution_count": 6,
   "id": "0c04be52",
   "metadata": {},
   "outputs": [
    {
     "name": "stdout",
     "output_type": "stream",
     "text": [
      "Probabilidad de que las 3 pelotas sean del mismo color: 1.8115\n",
      "Probabilidad de que las pelotas sean de colores diferentes: 0.2099\n"
     ]
    }
   ],
   "source": [
    "#Hecho por Daniel sarmiento\n",
    "total_red = 5\n",
    "total_red = 5\n",
    "total_blue = 6\n",
    "total_green = 8\n",
    "\n",
    "total_balls = total_red + total_blue + total_green\n",
    "\n",
    "p_red = total_red / total_balls\n",
    "p_blue = total_blue / total_balls\n",
    "p_green = total_green / total_balls\n",
    "\n",
    "p_same_color = (p_red * 3) + (p_blue * 3) + (p_green ** 3)\n",
    "\n",
    "\n",
    "p_different_colors = 6 * (p_red * p_blue * p_green)\n",
    "\n",
    "print(f\"Probabilidad de que las 3 pelotas sean del mismo color: {p_same_color:.4f}\")\n",
    "print(f\"Probabilidad de que las pelotas sean de colores diferentes: {p_different_colors:.4f}\")"
   ]
  },
  {
   "cell_type": "markdown",
   "id": "a1f286c8",
   "metadata": {},
   "source": [
    "## Ejercicio 5.\n",
    "\n",
    "Repita el ejercicio anterior suponiendo que ahora cada vez que se selecciona una pelota, se anota su color y se vuelve a introducir en la urna antes de la siguiente selección; esto se conoce como _muestreo con reemplazo._"
   ]
  },
  {
   "cell_type": "code",
   "execution_count": 7,
   "id": "ef6885cb",
   "metadata": {},
   "outputs": [
    {
     "name": "stdout",
     "output_type": "stream",
     "text": [
      "Probabilidad de que las 3 pelotas sean del mismo color: 0.1244\n",
      "Probabilidad de que las pelotas sean de colores diferentes: 0.2099\n"
     ]
    }
   ],
   "source": [
    "#hecho por Daniel Sarmiento\n",
    "total_red = 5\n",
    "total_blue = 6\n",
    "total_green = 8\n",
    "\n",
    "total_balls = total_red + total_blue + total_green\n",
    "\n",
    "p_red = total_red / total_balls\n",
    "p_blue = total_blue / total_balls\n",
    "p_green = total_green / total_balls\n",
    "\n",
    "p_same_color = (p_red ** 3) + (p_blue ** 3) + (p_green ** 3)\n",
    "\n",
    "\n",
    "p_different_colors = 6 * (p_red * p_blue * p_green)\n",
    "\n",
    "print(f\"Probabilidad de que las 3 pelotas sean del mismo color: {p_same_color:.4f}\")\n",
    "print(f\"Probabilidad de que las pelotas sean de colores diferentes: {p_different_colors:.4f}\")\n"
   ]
  },
  {
   "cell_type": "markdown",
   "id": "47bd344a",
   "metadata": {},
   "source": [
    "## Ejercicio 6.\n",
    "\n",
    "Un profesor da a su clase un conjunto de 10 problemas con la información de que el examen final consistirá en una selección aleatoria de 5 de ellos. Si un estudiante ha resuelto 7 de los problemas, ¿cuál es la probabilidad de que conteste correctamente:\n",
    "\n",
    "a) los 5 problemas?\n",
    "\n",
    "b) al menos 4 de los problemas?"
   ]
  },
  {
   "cell_type": "code",
   "execution_count": 8,
   "id": "85a0b0b0",
   "metadata": {},
   "outputs": [
    {
     "name": "stdout",
     "output_type": "stream",
     "text": [
      "Total de combinaciones posibles del examen: 252\n",
      "Probabilidad de acertar los 5 problemas: 0.0833\n",
      "Probabilidad de acertar al menos 4 problemas: 0.5000\n"
     ]
    }
   ],
   "source": [
    "#Hecho por Daniel Sarmiento\n",
    "total_problems = 10  \n",
    "solved_problems = 7  \n",
    "exam_problems = 5   \n",
    "\n",
    "\n",
    "total_combinations = len(list(it.combinations(range(total_problems), exam_problems)))\n",
    "\n",
    "\n",
    "correct_5_combinations = len(list(it.combinations(range(solved_problems), exam_problems)))\n",
    "\n",
    "\n",
    "probability_correct_5 = correct_5_combinations / total_combinations\n",
    "\n",
    "\n",
    "\n",
    "correct_4_combinations = len(list(it.combinations(range(solved_problems), 4)))\n",
    "\n",
    "incorrect_1_combinations = len(list(it.combinations(range(solved_problems, total_problems), 1)))\n",
    "\n",
    "\n",
    "correct_4_total = correct_4_combinations * incorrect_1_combinations\n",
    "\n",
    "at_least_4_combinations = correct_4_total + correct_5_combinations\n",
    "\n",
    "\n",
    "probability_at_least_4 = at_least_4_combinations / total_combinations\n",
    "\n",
    "\n",
    "print(f\"Total de combinaciones posibles del examen: {total_combinations}\")\n",
    "print(f\"Probabilidad de acertar los 5 problemas: {probability_correct_5:.4f}\")\n",
    "print(f\"Probabilidad de acertar al menos 4 problemas: {probability_at_least_4:.4f}\")"
   ]
  }
 ],
 "metadata": {
  "kernelspec": {
   "display_name": "Python 3",
   "language": "python",
   "name": "python3"
  },
  "language_info": {
   "codemirror_mode": {
    "name": "ipython",
    "version": 3
   },
   "file_extension": ".py",
   "mimetype": "text/x-python",
   "name": "python",
   "nbconvert_exporter": "python",
   "pygments_lexer": "ipython3",
   "version": "3.12.3"
  }
 },
 "nbformat": 4,
 "nbformat_minor": 5
}
