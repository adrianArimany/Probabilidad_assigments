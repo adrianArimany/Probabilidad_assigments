{
 "cells": [
  {
   "cell_type": "markdown",
   "id": "60200b30",
   "metadata": {},
   "source": [
    "# Técnicas de conteo"
   ]
  },
  {
   "cell_type": "markdown",
   "id": "d3df9906",
   "metadata": {},
   "source": [
    "## Ejemplo 1. \n",
    "Consideremos un experimento aleatorio que consiste en el lanzar una moneda 2 veces. Escriba un programa que resuelva los siguientes incisos generando el listado de elementos que cumplen las condiciones.\n",
    "\n",
    "a) Liste los elementos del conjunto de posibles resultados $S$.\n",
    "\n",
    "b) Liste los resultados contienen al menos una cara.\n",
    "\n",
    "c) Liste los resultados en los que los dos lanzamientos fueron iguales."
   ]
  },
  {
   "cell_type": "code",
   "execution_count": 2,
   "id": "ee611ba6",
   "metadata": {},
   "outputs": [
    {
     "name": "stdout",
     "output_type": "stream",
     "text": [
      "a)\n",
      "El conjunto de posibles resultados es S = {('H', 'H'), ('H', 'T'), ('T', 'H'), ('T', 'T')}.\n",
      "\n",
      "b)\n",
      "Los resultados que contienen al menos una cara son {('T', 'H'), ('H', 'H'), ('H', 'T')} y son 3.\n",
      "\n",
      "c)\n",
      "Los resultados en los que los dos lanzamientos son iguales son {('H', 'H'), ('T', 'T')} y son 2.\n",
      "\n"
     ]
    }
   ],
   "source": [
    "import itertools as it\n",
    "\n",
    "A = {'H','T'}\n",
    "S = set(it.product(A,repeat=2))\n",
    "\n",
    "print(\"a)\")\n",
    "print(f\"El conjunto de posibles resultados es S = {S}.\\n\")\n",
    "\n",
    "E1 = set([k for k in S if 'H' in k])\n",
    "ansb = len(E1)\n",
    "print(\"b)\")\n",
    "print(f\"Los resultados que contienen al menos una cara son {E1} y son {ansb}.\\n\")\n",
    "\n",
    "E2 = set([k for k in S if k[0] == k[1] in k])\n",
    "ansc = len(E2)\n",
    "print(\"c)\")\n",
    "print(f\"Los resultados en los que los dos lanzamientos son iguales son {E2} y son {ansc}.\\n\")"
   ]
  },
  {
   "cell_type": "markdown",
   "id": "a70b923c",
   "metadata": {},
   "source": [
    "## Ejemplo 2.\n",
    "Se tiene un dado no cargado y se lanza 4 veces. Escriba un programa que resuelva los siguientes incisos generando el listado de elementos que cumplen las condiciones.\n",
    "\n",
    "a)\t¿Cuántos resultados diferentes son posibles?\n",
    "\n",
    "b)\t¿Cuántos resultados son posibles que la suma de sus caras sea 18?\n",
    "\n",
    "c)\t¿Cuál es la suma caras que tiene el mayor número de resultados? Indique cuántos resultados tienen dicha suma."
   ]
  },
  {
   "cell_type": "code",
   "execution_count": null,
   "id": "d8df36cb",
   "metadata": {},
   "outputs": [],
   "source": [
    "A = {1,2,3,4,5,6}\n",
    "\n",
    "S = set(it.product(A,repeat=4))\n",
    "ansa = len(S)\n",
    "print(\"a)\")\n",
    "print(f\"El conjunto de posibles tiene {ansa} elementos.\\n\")\n",
    "\n",
    "E1 = set([k for k in S if sum(k) == 18])\n",
    "ansb = len(E1)\n",
    "print(\"b)\")\n",
    "print(f\"Los resultados cuya suma es 18 son {ansb}.\\n\")\n",
    "\n",
    "R=[(m,len([k for k in S if sum(k) == m])) for m in range(4,25)]\n",
    "maximo = max([t[1] for t in R])\n",
    "suma = [t[0] for t in R if t[1] == maximo][0]\n",
    "E2 = set([k for k in S if sum(k) == suma])\n",
    "ansc = len(E2)\n",
    "\n",
    "print(suma)\n",
    "print(\"c)\")\n",
    "print(f\"La suma con el mayor número de resultados es {suma} y la cantidad de resultados es {ansc}.\\n\")"
   ]
  },
  {
   "cell_type": "markdown",
   "id": "c43e89a0",
   "metadata": {},
   "source": [
    "## Ejemplo 3.\n",
    "Considere la palabra MATEMATICA. Escriba un programa que resuelva los siguientes incisos generando el listado de elementos que cumplen las condiciones.\n",
    "\n",
    "a) ¿Cuántas palabras diferentes se pueden formar usando todas las letras?\n",
    "\n",
    "b) ¿Cuántas de esas palabras comienzan con la letra C?"
   ]
  },
  {
   "cell_type": "code",
   "execution_count": 2,
   "id": "1ece94db",
   "metadata": {},
   "outputs": [
    {
     "name": "stdout",
     "output_type": "stream",
     "text": [
      "a)\n",
      "La cantidad de palabras es 151200.\n",
      "\n",
      "b)\n",
      "La cantidad de palabras que comienzan con C es 15120.\n",
      "\n",
      "c)\n",
      "La cantidad de palabras en las que las letras T aparecen juntas es 30240.\n",
      "\n"
     ]
    }
   ],
   "source": [
    "A = \"MATEMATICA\"\n",
    "S = set(it.permutations(A))\n",
    "ansa = len(S)\n",
    "print(\"a)\")\n",
    "print(f\"La cantidad de palabras es {ansa}.\\n\")\n",
    "\n",
    "ansb = sum(1 for k in S if k[0]=='C')\n",
    "print(\"b)\")\n",
    "print(f\"La cantidad de palabras que comienzan con C es {ansb}.\\n\")\n",
    "\n",
    "ansc = sum(1 for k in S if \"TT\" in \"\".join(k))\n",
    "print(\"c)\")\n",
    "print(f\"La cantidad de palabras en las que las letras T aparecen juntas es {ansc}.\\n\")"
   ]
  },
  {
   "cell_type": "markdown",
   "id": "c5c6ae53",
   "metadata": {},
   "source": [
    "## Ejercicio 4.\n",
    "Los dígitos 1, 2, 3, 4 y 5 se colocan en orden aleatorio para formar un número de cinco cifras distintas.\n",
    "\n",
    "a) ¿Cuántos números de cinco cifras diferentes se pueden formar?\n",
    "\n",
    "b) ¿Cuántos números de cinco cifras diferentes son impares?\n",
    "\n",
    "c) ¿Cuántos números de cinco cifras diferentes son menores a 23000?\n"
   ]
  },
  {
   "cell_type": "code",
   "execution_count": 3,
   "id": "5ed38435",
   "metadata": {},
   "outputs": [
    {
     "name": "stdout",
     "output_type": "stream",
     "text": [
      "a)\n",
      "El conjunto de posibles tiene 120 elementos.\n",
      "\n",
      "Los resultados impares son 72 y son 120\n",
      "Los resultados menores a 23000 son 120 y son 120\n"
     ]
    }
   ],
   "source": [
    "## Ejercicio 4.\n",
    "# Los dígitos 1, 2, 3, 4 y 5 se colocan en orden aleatorio para formar un número de cinco cifras distintas.\n",
    "\n",
    "# a) ¿Cuántos números de cinco cifras diferentes se pueden formar?\n",
    "A = {1,2,3,4,5}\n",
    "perA = set(it.permutations(A))\n",
    "E1 = set([k for k in perA if len(set(k)) == 5])\n",
    "ansa = len(E1)\n",
    "print(\"a)\")\n",
    "print(f\"El conjunto de posibles tiene {ansa} elementos.\\n\")\n",
    "#120\n",
    "# b) ¿Cuántos números de cinco cifras diferentes son impares?\n",
    "\n",
    "result = len([k for k in E1 if k[0] % 2 != 0])\n",
    "print(f\"Los resultados impares son {result} y son {len(E1)}\")\n",
    "    \n",
    "#72\n",
    "# c) ¿Cuántos números de cinco cifras diferentes son menores a 23000?\n",
    "result = len([k for k in E1 if k[0] < 23000])\n",
    "print(f\"Los resultados menores a 23000 son {result} y son {len(E1)}\")"
   ]
  }
 ],
 "metadata": {
  "kernelspec": {
   "display_name": "Python 3",
   "language": "python",
   "name": "python3"
  },
  "language_info": {
   "codemirror_mode": {
    "name": "ipython",
    "version": 3
   },
   "file_extension": ".py",
   "mimetype": "text/x-python",
   "name": "python",
   "nbconvert_exporter": "python",
   "pygments_lexer": "ipython3",
   "version": "3.12.3"
  }
 },
 "nbformat": 4,
 "nbformat_minor": 5
}
