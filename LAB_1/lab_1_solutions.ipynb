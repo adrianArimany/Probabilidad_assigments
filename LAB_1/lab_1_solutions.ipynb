{
 "cells": [
  {
   "cell_type": "code",
   "execution_count": 2,
   "metadata": {},
   "outputs": [],
   "source": [
    "#USE for import any package or internal file.\n",
    "import itertools as it\n"
   ]
  },
  {
   "cell_type": "markdown",
   "metadata": {},
   "source": [
    "\n",
    "# Lab 1 -\n",
    "\n",
    "1. Una empresa tiene un grupo de 8 empleados Ana, Bruno, Carlos, Dina, Eli, Frank,\n",
    "Gaby y Hugo, de los cuales necesita formar equipos de 3 personas para un proyecto.\n",
    "\n",
    "    a. ¿Cuántos equipos diferentes de 3 personas pueden formarse? ¿En cuántos de éstos está Ana?\n",
    "\n",
    "    b. ¿Cuántos equipos diferentes de 4 personas pueden formarse? ¿En cuántos de éstos no está Frank?"
   ]
  },
  {
   "cell_type": "code",
   "execution_count": 22,
   "metadata": {},
   "outputs": [
    {
     "name": "stdout",
     "output_type": "stream",
     "text": [
      "Problema A1:\n",
      "El numero total de grupos de 3 es 56\n",
      "La cantidad de grupos que contienen Ana es de 21\n",
      "Problema B1:\n",
      "El numero total de grupos de 4 es 70\n",
      "La cantidad de grupos que contienen Frank es de 35\n"
     ]
    }
   ],
   "source": [
    "# Problema A1\n",
    "print(\"Problema A1:\")\n",
    "S = {\"A\", \"B\", \"C\", \"D\", \"E\", \"F\", \"G\", \"H\"}\n",
    "\n",
    "# Para simplificar, tomemos solo la primera letra de los nombres.\n",
    "re1 = set(it.combinations(S, 3))\n",
    "result = len(re1)\n",
    "\n",
    "getA = 0\n",
    "for i in re1:\n",
    "     if \"A\" in i:\n",
    "          getA += 1\n",
    "         \n",
    "         \n",
    "print(f\"El numero total de grupos de 3 es {result}\")\n",
    "print(f\"La cantidad de grupos que contienen Ana es de {getA}\")\n",
    "\n",
    "# Resultado: 56, 21\n",
    "\n",
    "# Problema B1\n",
    "print(\"Problema B1:\")\n",
    "\n",
    "re2 = set(it.combinations(S, 4))\n",
    "result = len(re2)\n",
    "\n",
    "getF = 0\n",
    "for i in re2:\n",
    "     if \"A\" in i:\n",
    "          getF += 1\n",
    "         \n",
    "         \n",
    "print(f\"El numero total de grupos de 4 es {result}\")\n",
    "print(f\"La cantidad de grupos que contienen Frank es de {getF}\")\n",
    "\n",
    "#Resultado: 70, 35"
   ]
  },
  {
   "cell_type": "markdown",
   "metadata": {},
   "source": [
    "## Problema 2:\n",
    "    a. ¿Cuántas palabras diferentes se pueden formar usando todas las letras de la palabra SEERESS?\n",
    "\n",
    "    b. ¿Cuántas de estas palabras comienzan con S y terminan con R?\n",
    "    \n",
    "    c. ¿Cuántas palabras diferentes se pueden formar usando cinco o más letras de la palabra SEERESS?"
   ]
  },
  {
   "cell_type": "code",
   "execution_count": 27,
   "metadata": {},
   "outputs": [
    {
     "name": "stdout",
     "output_type": "stream",
     "text": [
      "El conjunto de posibles palabras usando la palabra SEERESS es S = 140\n",
      "La cantidad de palabras que empiezan en S y terminan en R es 10\n"
     ]
    }
   ],
   "source": [
    "#Problema A2\n",
    "S = \"SEERESS\"\n",
    "\n",
    "En = set(it.permutations(S))\n",
    "resultA = len(En)\n",
    "\n",
    "print(f\"El conjunto de posibles palabras usando la palabra SEERESS es S = {resultA}\")\n",
    "\n",
    "#result 140\n",
    "#Problema B2\n",
    "ansB = sum(1 for k in En if k[0] == \"S\" and k[6] == \"R\")\n",
    "print(f\"La cantidad de palabras que empiezan en S y terminan en R es {ansB}\")\n",
    "#result 10\n",
    "#Problema C2\n",
    "\n",
    "\n",
    "#Result 530"
   ]
  },
  {
   "cell_type": "markdown",
   "metadata": {},
   "source": [
    "## Problema 3: \n",
    "    ¿Cuántos números entre 1 y 1,000,000 son primos?"
   ]
  },
  {
   "cell_type": "code",
   "execution_count": 31,
   "metadata": {},
   "outputs": [
    {
     "data": {
      "text/plain": [
       "78498"
      ]
     },
     "execution_count": 31,
     "metadata": {},
     "output_type": "execute_result"
    }
   ],
   "source": [
    "#Problema A3\n",
    "\n",
    "def is_prime(n):\n",
    "    if n < 2:\n",
    "        return False\n",
    "    for i in range(2, int(n**0.5) + 1):\n",
    "        if n % i == 0:\n",
    "            return False\n",
    "    return True\n",
    "\n",
    "# Contar números primos entre 1 y 1,000,000\n",
    "primos = [n for n in range(1, 1000001) if is_prime(n)]\n",
    "total_primos = len(primos)\n",
    "\n",
    "total_primos\n"
   ]
  },
  {
   "cell_type": "markdown",
   "metadata": {},
   "source": [
    "## Problema 4\n",
    "    a. ¿Cuántos números decimales de 4 dígitos se pueden formar usando los dígitos del 0 al 9?\n",
    "\n",
    "    b. ¿Cuántos tienen uno o más dígitos repetidos? Ej.: 2324, 5255, 6767, etc.\n",
    "\n",
    "    c. ¿Cuántos tienen los 4 dígitos repetidos? Ej.: 3333.\n",
    "\n",
    "    d. ¿Cuántos tienen dos dígitos (diferentes) repetidos dos veces cada uno? Ej.: 2424.\n",
    "\n",
    "    e. ¿Cuántos de estos repiten un dígito dos veces y los otros no se repiten? Ej.: 3137.\n",
    "\n",
    "    f. ¿Cuántos de estos repiten un dígito tres veces y el otro no se repite? Ej.: 9199."
   ]
  },
  {
   "cell_type": "code",
   "execution_count": 32,
   "metadata": {},
   "outputs": [
    {
     "name": "stdout",
     "output_type": "stream",
     "text": [
      "9000\n"
     ]
    },
    {
     "ename": "KeyboardInterrupt",
     "evalue": "",
     "output_type": "error",
     "traceback": [
      "\u001b[0;31m---------------------------------------------------------------------------\u001b[0m",
      "\u001b[0;31mKeyboardInterrupt\u001b[0m                         Traceback (most recent call last)",
      "Cell \u001b[0;32mIn[32], line 23\u001b[0m\n\u001b[1;32m      8\u001b[0m \u001b[38;5;28mprint\u001b[39m(ans)\n\u001b[1;32m     10\u001b[0m \u001b[38;5;66;03m#9,000 números decimales de 4 dígitos\u001b[39;00m\n\u001b[1;32m     11\u001b[0m \n\u001b[1;32m     12\u001b[0m \u001b[38;5;66;03m#B4\u001b[39;00m\n\u001b[0;32m   (...)\u001b[0m\n\u001b[1;32m     21\u001b[0m \u001b[38;5;66;03m#8,856 números con uno o más dígitos repetidos\u001b[39;00m\n\u001b[1;32m     22\u001b[0m \u001b[38;5;66;03m#C4\u001b[39;00m\n\u001b[0;32m---> 23\u001b[0m unrepeated \u001b[38;5;241m=\u001b[39m [k \u001b[38;5;28;01mfor\u001b[39;00m k \u001b[38;5;129;01min\u001b[39;00m \u001b[43mx\u001b[49m \u001b[38;5;28;01mif\u001b[39;00m \u001b[38;5;28mlen\u001b[39m(\u001b[38;5;28mset\u001b[39m(k)) \u001b[38;5;241m==\u001b[39m \u001b[38;5;28mlen\u001b[39m(k)]\n\u001b[1;32m     24\u001b[0m ansC \u001b[38;5;241m=\u001b[39m \u001b[38;5;28mlen\u001b[39m(unrepeated)\n\u001b[1;32m     25\u001b[0m \u001b[38;5;28mprint\u001b[39m(ansC)\n",
      "File \u001b[0;32m_pydevd_bundle/pydevd_cython.pyx:1457\u001b[0m, in \u001b[0;36m_pydevd_bundle.pydevd_cython.SafeCallWrapper.__call__\u001b[0;34m()\u001b[0m\n",
      "File \u001b[0;32m_pydevd_bundle/pydevd_cython.pyx:701\u001b[0m, in \u001b[0;36m_pydevd_bundle.pydevd_cython.PyDBFrame.trace_dispatch\u001b[0;34m()\u001b[0m\n",
      "File \u001b[0;32m_pydevd_bundle/pydevd_cython.pyx:1152\u001b[0m, in \u001b[0;36m_pydevd_bundle.pydevd_cython.PyDBFrame.trace_dispatch\u001b[0;34m()\u001b[0m\n",
      "File \u001b[0;32m_pydevd_bundle/pydevd_cython.pyx:1135\u001b[0m, in \u001b[0;36m_pydevd_bundle.pydevd_cython.PyDBFrame.trace_dispatch\u001b[0;34m()\u001b[0m\n",
      "File \u001b[0;32m_pydevd_bundle/pydevd_cython.pyx:312\u001b[0m, in \u001b[0;36m_pydevd_bundle.pydevd_cython.PyDBFrame.do_wait_suspend\u001b[0;34m()\u001b[0m\n",
      "File \u001b[0;32m/usr/lib/python3/dist-packages/debugpy/_vendored/pydevd/pydevd.py:2070\u001b[0m, in \u001b[0;36mPyDB.do_wait_suspend\u001b[0;34m(self, thread, frame, event, arg, exception_type)\u001b[0m\n\u001b[1;32m   2067\u001b[0m             from_this_thread\u001b[38;5;241m.\u001b[39mappend(frame_custom_thread_id)\n\u001b[1;32m   2069\u001b[0m     \u001b[38;5;28;01mwith\u001b[39;00m \u001b[38;5;28mself\u001b[39m\u001b[38;5;241m.\u001b[39m_threads_suspended_single_notification\u001b[38;5;241m.\u001b[39mnotify_thread_suspended(thread_id, thread, stop_reason):\n\u001b[0;32m-> 2070\u001b[0m         keep_suspended \u001b[38;5;241m=\u001b[39m \u001b[38;5;28;43mself\u001b[39;49m\u001b[38;5;241;43m.\u001b[39;49m\u001b[43m_do_wait_suspend\u001b[49m\u001b[43m(\u001b[49m\u001b[43mthread\u001b[49m\u001b[43m,\u001b[49m\u001b[43m \u001b[49m\u001b[43mframe\u001b[49m\u001b[43m,\u001b[49m\u001b[43m \u001b[49m\u001b[43mevent\u001b[49m\u001b[43m,\u001b[49m\u001b[43m \u001b[49m\u001b[43marg\u001b[49m\u001b[43m,\u001b[49m\u001b[43m \u001b[49m\u001b[43msuspend_type\u001b[49m\u001b[43m,\u001b[49m\u001b[43m \u001b[49m\u001b[43mfrom_this_thread\u001b[49m\u001b[43m,\u001b[49m\u001b[43m \u001b[49m\u001b[43mframes_tracker\u001b[49m\u001b[43m)\u001b[49m\n\u001b[1;32m   2072\u001b[0m frames_list \u001b[38;5;241m=\u001b[39m \u001b[38;5;28;01mNone\u001b[39;00m\n\u001b[1;32m   2074\u001b[0m \u001b[38;5;28;01mif\u001b[39;00m keep_suspended:\n\u001b[1;32m   2075\u001b[0m     \u001b[38;5;66;03m# This means that we should pause again after a set next statement.\u001b[39;00m\n",
      "File \u001b[0;32m/usr/lib/python3/dist-packages/debugpy/_vendored/pydevd/pydevd.py:2106\u001b[0m, in \u001b[0;36mPyDB._do_wait_suspend\u001b[0;34m(self, thread, frame, event, arg, suspend_type, from_this_thread, frames_tracker)\u001b[0m\n\u001b[1;32m   2103\u001b[0m         \u001b[38;5;28mself\u001b[39m\u001b[38;5;241m.\u001b[39m_call_input_hook()\n\u001b[1;32m   2105\u001b[0m     \u001b[38;5;28mself\u001b[39m\u001b[38;5;241m.\u001b[39mprocess_internal_commands()\n\u001b[0;32m-> 2106\u001b[0m     \u001b[43mtime\u001b[49m\u001b[38;5;241;43m.\u001b[39;49m\u001b[43msleep\u001b[49m\u001b[43m(\u001b[49m\u001b[38;5;241;43m0.01\u001b[39;49m\u001b[43m)\u001b[49m\n\u001b[1;32m   2108\u001b[0m \u001b[38;5;28mself\u001b[39m\u001b[38;5;241m.\u001b[39mcancel_async_evaluation(get_current_thread_id(thread), \u001b[38;5;28mstr\u001b[39m(\u001b[38;5;28mid\u001b[39m(frame)))\n\u001b[1;32m   2110\u001b[0m \u001b[38;5;66;03m# process any stepping instructions\u001b[39;00m\n",
      "\u001b[0;31mKeyboardInterrupt\u001b[0m: "
     ]
    }
   ],
   "source": [
    "#Problema A4\n",
    "\n",
    "#A4\n",
    "x = it.product(range(10), repeat=4)\n",
    "valid_numbers = [k for k in x if k[0] != 0] \n",
    "# Exluide todo los tuples que inicial en 0, ya que se buscan solo los decimales, y un decimal no empieza con 0\n",
    "ans = len(valid_numbers)\n",
    "print(ans)\n",
    "\n",
    "#9,000 números decimales de 4 dígitos\n",
    "\n",
    "#B4\n",
    "\n",
    "# valid_numbers = [int(\"\".join(map(str, perm))) for perm in it.permutations(range(10), 4) if perm[0] != 0 ]\n",
    "# newAns = len(valid_numbers)\n",
    "# ansB = x - newAns \n",
    "# print(ansB)\n",
    "\n",
    "\n",
    "\n",
    "#8,856 números con uno o más dígitos repetidos\n",
    "#C4\n",
    "unrepeated = [k for k in x if len(set(k)) == len(k)]\n",
    "ansC = len(unrepeated)\n",
    "print(ansC)\n",
    "#10 números con los 4 dígitos repetidos\n",
    "#D4\n",
    "\n",
    "\n",
    "# 630 números con dos dígitos diferentes repetidos dos veces cada uno\n",
    "#E4\n",
    "\n",
    "\n",
    "\n",
    "#2,160 números que repiten un dígito dos veces y los otros dos no se repiten.\n",
    "#F4\n",
    "\n",
    "\n",
    "\n",
    "\n",
    "#360 números que repiten un dígito tres veces y el otro no se repite"
   ]
  }
 ],
 "metadata": {
  "kernelspec": {
   "display_name": "Python 3",
   "language": "python",
   "name": "python3"
  },
  "language_info": {
   "codemirror_mode": {
    "name": "ipython",
    "version": 3
   },
   "file_extension": ".py",
   "mimetype": "text/x-python",
   "name": "python",
   "nbconvert_exporter": "python",
   "pygments_lexer": "ipython3",
   "version": "3.12.3"
  }
 },
 "nbformat": 4,
 "nbformat_minor": 2
}
