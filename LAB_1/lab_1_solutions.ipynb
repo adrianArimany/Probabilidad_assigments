{
 "cells": [
  {
   "cell_type": "code",
   "execution_count": 1,
   "metadata": {},
   "outputs": [],
   "source": [
    "#USE for import any package or internal file.\n",
    "import itertools as it\n"
   ]
  },
  {
   "cell_type": "markdown",
   "metadata": {},
   "source": [
    "\n",
    "# Lab 1 -\n",
    "\n",
    "1. Una empresa tiene un grupo de 8 empleados Ana, Bruno, Carlos, Dina, Eli, Frank,\n",
    "Gaby y Hugo, de los cuales necesita formar equipos de 3 personas para un proyecto.\n",
    "\n",
    "    a. ¿Cuántos equipos diferentes de 3 personas pueden formarse? ¿En cuántos de éstos está Ana?\n",
    "\n",
    "    b. ¿Cuántos equipos diferentes de 4 personas pueden formarse? ¿En cuántos de éstos no está Frank?"
   ]
  },
  {
   "cell_type": "code",
   "execution_count": 22,
   "metadata": {},
   "outputs": [
    {
     "name": "stdout",
     "output_type": "stream",
     "text": [
      "Problema A1:\n",
      "El numero total de grupos de 3 es 56\n",
      "La cantidad de grupos que contienen Ana es de 21\n",
      "Problema B1:\n",
      "El numero total de grupos de 4 es 70\n",
      "La cantidad de grupos que contienen Frank es de 35\n"
     ]
    }
   ],
   "source": [
    "# Problema A1\n",
    "print(\"Problema A1:\")\n",
    "S = {\"A\", \"B\", \"C\", \"D\", \"E\", \"F\", \"G\", \"H\"}\n",
    "\n",
    "# Para simplificar, tomemos solo la primera letra de los nombres.\n",
    "re1 = set(it.combinations(S, 3))\n",
    "result = len(re1)\n",
    "\n",
    "getA = 0\n",
    "for i in re1:\n",
    "     if \"A\" in i:\n",
    "          getA += 1\n",
    "         \n",
    "         \n",
    "print(f\"El numero total de grupos de 3 es {result}\")\n",
    "print(f\"La cantidad de grupos que contienen Ana es de {getA}\")\n",
    "\n",
    "# Resultado: 56, 21\n",
    "\n",
    "# Problema B1\n",
    "print(\"Problema B1:\")\n",
    "\n",
    "re2 = set(it.combinations(S, 4))\n",
    "result = len(re2)\n",
    "\n",
    "getF = 0\n",
    "for i in re2:\n",
    "     if \"A\" in i:\n",
    "          getF += 1\n",
    "         \n",
    "         \n",
    "print(f\"El numero total de grupos de 4 es {result}\")\n",
    "print(f\"La cantidad de grupos que contienen Frank es de {getF}\")\n",
    "\n",
    "#Resultado: 70, 35"
   ]
  },
  {
   "cell_type": "markdown",
   "metadata": {},
   "source": [
    "## Problema 2:\n",
    "    a. ¿Cuántas palabras diferentes se pueden formar usando todas las letras de la palabra SEERESS?\n",
    "\n",
    "    b. ¿Cuántas de estas palabras comienzan con S y terminan con R?\n",
    "    \n",
    "    c. ¿Cuántas palabras diferentes se pueden formar usando cinco o más letras de la palabra SEERESS?"
   ]
  },
  {
   "cell_type": "code",
   "execution_count": 27,
   "metadata": {},
   "outputs": [
    {
     "name": "stdout",
     "output_type": "stream",
     "text": [
      "El conjunto de posibles palabras usando la palabra SEERESS es S = 140\n",
      "La cantidad de palabras que empiezan en S y terminan en R es 10\n"
     ]
    }
   ],
   "source": [
    "#Problema A2\n",
    "S = \"SEERESS\"\n",
    "\n",
    "En = set(it.permutations(S))\n",
    "resultA = len(En)\n",
    "\n",
    "print(f\"El conjunto de posibles palabras usando la palabra SEERESS es S = {resultA}\")\n",
    "\n",
    "#result 140\n",
    "#Problema B2\n",
    "ansB = sum(1 for k in En if k[0] == \"S\" and k[6] == \"R\")\n",
    "print(f\"La cantidad de palabras que empiezan en S y terminan en R es {ansB}\")\n",
    "#result 10\n",
    "#Problema C2\n",
    "\n",
    "\n",
    "#Result 530"
   ]
  },
  {
   "cell_type": "markdown",
   "metadata": {},
   "source": [
    "## Problema 3: \n",
    "    ¿Cuántos números entre 1 y 1,000,000 son primos?"
   ]
  },
  {
   "cell_type": "code",
   "execution_count": 31,
   "metadata": {},
   "outputs": [
    {
     "data": {
      "text/plain": [
       "78498"
      ]
     },
     "execution_count": 31,
     "metadata": {},
     "output_type": "execute_result"
    }
   ],
   "source": [
    "#Problema A3\n",
    "\n",
    "def is_prime(n):\n",
    "    if n < 2:\n",
    "        return False\n",
    "    for i in range(2, int(n**0.5) + 1):\n",
    "        if n % i == 0:\n",
    "            return False\n",
    "    return True\n",
    "\n",
    "# Contar números primos entre 1 y 1,000,000\n",
    "primos = [n for n in range(1, 1000001) if is_prime(n)]\n",
    "total_primos = len(primos)\n",
    "\n",
    "total_primos\n"
   ]
  },
  {
   "cell_type": "markdown",
   "metadata": {},
   "source": [
    "## Problema 4\n",
    "    a. ¿Cuántos números decimales de 4 dígitos se pueden formar usando los dígitos del 0 al 9?\n",
    "\n",
    "    b. ¿Cuántos tienen uno o más dígitos repetidos? Ej.: 2324, 5255, 6767, etc.\n",
    "\n",
    "    c. ¿Cuántos tienen los 4 dígitos repetidos? Ej.: 3333.\n",
    "\n",
    "    d. ¿Cuántos tienen dos dígitos (diferentes) repetidos dos veces cada uno? Ej.: 2424.\n",
    "\n",
    "    e. ¿Cuántos de estos repiten un dígito dos veces y los otros no se repiten? Ej.: 3137.\n",
    "\n",
    "    f. ¿Cuántos de estos repiten un dígito tres veces y el otro no se repite? Ej.: 9199."
   ]
  },
  {
   "cell_type": "code",
   "execution_count": 33,
   "metadata": {},
   "outputs": [
    {
     "name": "stdout",
     "output_type": "stream",
     "text": [
      "El numero total de digitos de 4 que se pueden formar son: 9000\n",
      "El numero total de digitos de 4, que tienen 1 o mas numeros repetidos son: 4464\n",
      "Numero total de digitos de 4 que se repiten los 4 digitos: 9, excluyendo el evento {0000}\n",
      "Numero total de digitos de 4 que se repiten dos veces son: 243\n"
     ]
    }
   ],
   "source": [
    "#Problema A4\n",
    "\n",
    "#A4\n",
    "\n",
    "\n",
    "\n",
    "S = it.product(range(10), repeat=4)\n",
    "valid_numbers = [k for k in S if k[0] != 0] \n",
    "# Exluide todo los tuples que inicial en 0, ya que se buscan solo los decimales, y un decimal no empieza con 0\n",
    "ansA = len(valid_numbers)\n",
    "print(f\"El numero total de digitos de 4 que se pueden formar son: {ansA}\")\n",
    "\n",
    "#9,000 números decimales de 4 dígitos\n",
    "\n",
    "#B4\n",
    "unrepeated_values = [k for k in valid_numbers if len(set(k)) == len(k)]\n",
    "ansBComplement = len(unrepeated_values)\n",
    "#if we know that there are 9000 tuples in total, \n",
    "# and we know that 4536 of them are unique, \n",
    "# so by the complementary property we can determine the solution of B with the following:\n",
    "ansB = ansA - ansBComplement\n",
    "print(f\"El numero total de digitos de 4, que tienen 1 o mas numeros repetidos son: {ansB}\")\n",
    "#8,856 números con uno o más dígitos repetidos\n",
    "#C4\n",
    "# Count numbers with all digits equal\n",
    "repeated_digits = [int(\"\".join(map(str, combo)))for combo in valid_numbers  if len(set(combo)) == 1 ]\n",
    "\n",
    "# Count the total\n",
    "ansC = len(repeated_digits)\n",
    "\n",
    "# Output the results\n",
    "print(f\"Numero total de digitos de 4 que se repiten los 4 digitos: {ansC}, excluyendo el evento {{0000}}\")\n",
    "\n",
    "#10 números con los 4 dígitos repetidos\n",
    "#D4\n",
    "digitsTwice = [\n",
    "    r for r in valid_numbers\n",
    "    if len(set(r)) == 2 and all(r.count(digit) == 2 for digit in set(r))]\n",
    "ansD = len(digitsTwice)\n",
    "print(f\"Numero total de digitos de 4 que se repiten dos veces son: {ansD}\")\n",
    "\n",
    "#E4\n",
    "\n",
    "\n",
    "\n",
    "#2,160 números que repiten un dígito dos veces y los otros dos no se repiten.\n",
    "#F4\n",
    "\n",
    "\n",
    "\n",
    "\n",
    "#360 números que repiten un dígito tres veces y el otro no se repite"
   ]
  }
 ],
 "metadata": {
  "kernelspec": {
   "display_name": "Python 3",
   "language": "python",
   "name": "python3"
  },
  "language_info": {
   "codemirror_mode": {
    "name": "ipython",
    "version": 3
   },
   "file_extension": ".py",
   "mimetype": "text/x-python",
   "name": "python",
   "nbconvert_exporter": "python",
   "pygments_lexer": "ipython3",
   "version": "3.12.3"
  }
 },
 "nbformat": 4,
 "nbformat_minor": 2
}
