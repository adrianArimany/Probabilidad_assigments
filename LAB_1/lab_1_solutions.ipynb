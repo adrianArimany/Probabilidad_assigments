{
 "cells": [
  {
   "cell_type": "code",
   "execution_count": null,
   "metadata": {},
   "outputs": [],
   "source": [
    "#USE for import any package or internal file.\n"
   ]
  },
  {
   "cell_type": "markdown",
   "metadata": {},
   "source": [
    "\n",
    "# Lab 1 -\n",
    "\n",
    "1. Una empresa tiene un grupo de 8 empleados Ana, Bruno, Carlos, Dina, Eli, Frank,\n",
    "Gaby y Hugo, de los cuales necesita formar equipos de 3 personas para un proyecto.\n",
    "\n",
    "    a. ¿Cuántos equipos diferentes de 3 personas pueden formarse? ¿En cuántos de éstos está Ana?\n",
    "\n",
    "    b. ¿Cuántos equipos diferentes de 4 personas pueden formarse? ¿En cuántos de éstos no está Frank?"
   ]
  },
  {
   "cell_type": "code",
   "execution_count": null,
   "metadata": {},
   "outputs": [],
   "source": [
    "# Problema a\n",
    "\n",
    "\n",
    "# Problema b"
   ]
  },
  {
   "cell_type": "markdown",
   "metadata": {},
   "source": [
    "## Problema 2:\n",
    "    a. ¿Cuántas palabras diferentes se pueden formar usando todas las letras de la palabra SEERESS?\n",
    "\n",
    "    b. ¿Cuántas de estas palabras comienzan con S y terminan con R?\n",
    "    \n",
    "    c. ¿Cuántas palabras diferentes se pueden formar usando cinco o más letras de la palabra SEERESS?"
   ]
  },
  {
   "cell_type": "code",
   "execution_count": null,
   "metadata": {},
   "outputs": [],
   "source": []
  },
  {
   "cell_type": "markdown",
   "metadata": {},
   "source": [
    "## Problema 3: \n",
    "    ¿Cuántos números entre 1 y 1,000,000 son primos?"
   ]
  },
  {
   "cell_type": "code",
   "execution_count": null,
   "metadata": {},
   "outputs": [],
   "source": []
  },
  {
   "cell_type": "markdown",
   "metadata": {},
   "source": [
    "## Problema 4\n",
    "    a. ¿Cuántos números decimales de 4 dígitos se pueden formar usando los dígitos del 0 al 9?\n",
    "\n",
    "    b. ¿Cuántos tienen uno o más dígitos repetidos? Ej.: 2324, 5255, 6767, etc.\n",
    "\n",
    "    c. ¿Cuántos tienen los 4 dígitos repetidos? Ej.: 3333.\n",
    "\n",
    "    d. ¿Cuántos tienen dos dígitos (diferentes) repetidos dos veces cada uno? Ej.: 2424.\n",
    "\n",
    "    e. ¿Cuántos de estos repiten un dígito dos veces y los otros no se repiten? Ej.: 3137.\n",
    "\n",
    "    f. ¿Cuántos de estos repiten un dígito tres veces y el otro no se repite? Ej.: 9199."
   ]
  },
  {
   "cell_type": "code",
   "execution_count": null,
   "metadata": {},
   "outputs": [],
   "source": []
  }
 ],
 "metadata": {
  "kernelspec": {
   "display_name": "Python 3",
   "language": "python",
   "name": "python3"
  },
  "language_info": {
   "name": "python",
   "version": "3.12.3"
  }
 },
 "nbformat": 4,
 "nbformat_minor": 2
}
