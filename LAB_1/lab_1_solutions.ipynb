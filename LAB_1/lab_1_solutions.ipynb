{
 "cells": [
  {
   "cell_type": "markdown",
   "metadata": {},
   "source": [
    "\n",
    "title: \"LAB - 1 - Teoria de la Probabilidad\"\n",
    "\n",
    "\n",
    "author: \"Adrian Arimany (211063) - Daniel Sarmiento (231105)\"\n",
    "\n",
    "\n",
    "date: \"Enero 26, 2025\"\n"
   ]
  },
  {
   "cell_type": "code",
   "execution_count": 17,
   "metadata": {},
   "outputs": [],
   "source": [
    "#USE for import any package or internal file.\n",
    "import itertools as it\n",
    "from collections import Counter\n"
   ]
  },
  {
   "cell_type": "markdown",
   "metadata": {},
   "source": [
    "## Problema 1\n",
    "1. Una empresa tiene un grupo de 8 empleados Ana, Bruno, Carlos, Dina, Eli, Frank,\n",
    "Gaby y Hugo, de los cuales necesita formar equipos de 3 personas para un proyecto.\n",
    "\n",
    "    a. ¿Cuántos equipos diferentes de 3 personas pueden formarse? ¿En cuántos de éstos está Ana?\n",
    "\n",
    "    b. ¿Cuántos equipos diferentes de 4 personas pueden formarse? ¿En cuántos de éstos no está Frank?"
   ]
  },
  {
   "cell_type": "code",
   "execution_count": 18,
   "metadata": {},
   "outputs": [
    {
     "name": "stdout",
     "output_type": "stream",
     "text": [
      "Problema A1:\n",
      "El numero total de grupos de 3 es 56\n",
      "La cantidad de grupos que contienen Ana es de 21\n",
      "Problema B1:\n",
      "El numero total de grupos de 4 es 70\n",
      "La cantidad de grupos que contienen Frank es de 35\n"
     ]
    }
   ],
   "source": [
    "# Problema A1\n",
    "print(\"Problema A1:\")\n",
    "S = {\"A\", \"B\", \"C\", \"D\", \"E\", \"F\", \"G\", \"H\"}\n",
    "\n",
    "# Para simplificar, tomemos solo la primera letra de los nombres.\n",
    "re1 = set(it.combinations(S, 3))\n",
    "result = len(re1)\n",
    "\n",
    "getA = 0\n",
    "for i in re1:\n",
    "     if \"A\" in i:\n",
    "          getA += 1\n",
    "         \n",
    "         \n",
    "print(f\"El numero total de grupos de 3 es {result}\")\n",
    "print(f\"La cantidad de grupos que contienen Ana es de {getA}\")\n",
    "\n",
    "# Resultado: 56, 21\n",
    "\n",
    "# Problema B1\n",
    "print(\"Problema B1:\")\n",
    "\n",
    "re2 = set(it.combinations(S, 4))\n",
    "result = len(re2)\n",
    "\n",
    "getF = 0\n",
    "for i in re2:\n",
    "     if \"A\" in i:\n",
    "          getF += 1\n",
    "         \n",
    "         \n",
    "print(f\"El numero total de grupos de 4 es {result}\")\n",
    "print(f\"La cantidad de grupos que contienen Frank es de {getF}\")\n",
    "\n",
    "#Resultado: 70, 35"
   ]
  },
  {
   "cell_type": "markdown",
   "metadata": {},
   "source": [
    "## Problema 2:\n",
    "    a. ¿Cuántas palabras diferentes se pueden formar usando todas las letras de la palabra SEERESS?\n",
    "\n",
    "    b. ¿Cuántas de estas palabras comienzan con S y terminan con R?\n",
    "    \n",
    "    c. ¿Cuántas palabras diferentes se pueden formar usando cinco o más letras de la palabra SEERESS?"
   ]
  },
  {
   "cell_type": "code",
   "execution_count": 16,
   "metadata": {},
   "outputs": [
    {
     "name": "stdout",
     "output_type": "stream",
     "text": [
      "El conjunto de posibles palabras usando la palabra SEERESS es S: 140\n",
      "La cantidad de palabras que empiezan en S y terminan en R: 10\n",
      "Numero total de palabras con cinco o mas letras: 370\n"
     ]
    }
   ],
   "source": [
    "#Problema A2\n",
    "S = \"SEERESS\"\n",
    "result = set(it.permutations(S))\n",
    "resultA = len(result)\n",
    "\n",
    "print(f\"El conjunto de posibles palabras usando la palabra SEERESS es S: {resultA}\")\n",
    "\n",
    "#result 140\n",
    "#Problema B2\n",
    "ansB = sum(1 for k in result if k[0] == \"S\" and k[6] == \"R\")\n",
    "print(f\"La cantidad de palabras que empiezan en S y terminan en R: {ansB}\")\n",
    "#result 10\n",
    "#Problema C2\n",
    "\n",
    "total_unique_words = 0\n",
    "letter_count = Counter(S)\n",
    "\n",
    "for length in range(5, 8):\n",
    "    perms = set() \n",
    "    for perm in it.permutations(S, length):\n",
    "        word_perm = ''.join(perm)\n",
    "        if Counter(word_perm) <= letter_count:\n",
    "            perms.add(word_perm)\n",
    "    total_unique_words += len(perms)\n",
    "\n",
    "print(f\"Numero total de palabras con cinco o mas letras: {total_unique_words}\")\n"
   ]
  },
  {
   "cell_type": "markdown",
   "metadata": {},
   "source": [
    "## Problema 3: \n",
    "    ¿Cuántos números entre 1 y 1,000,000 son primos?"
   ]
  },
  {
   "cell_type": "code",
   "execution_count": 26,
   "metadata": {},
   "outputs": [
    {
     "data": {
      "text/plain": [
       "78498"
      ]
     },
     "execution_count": 26,
     "metadata": {},
     "output_type": "execute_result"
    }
   ],
   "source": [
    "#Problema A3\n",
    "\n",
    "def is_prime(n):\n",
    "    if n < 2:\n",
    "        return False\n",
    "    for i in range(2, int(n**0.5) + 1):\n",
    "        if n % i == 0:\n",
    "            return False\n",
    "    return True\n",
    "\n",
    "# Contar números primos entre 1 y 1,000,000\n",
    "primos = [n for n in range(1, 1000001) if is_prime(n)]\n",
    "total_primos = len(primos)\n",
    "\n",
    "total_primos\n"
   ]
  },
  {
   "cell_type": "markdown",
   "metadata": {},
   "source": [
    "## Problema 4\n",
    "    a. ¿Cuántos números decimales de 4 dígitos se pueden formar usando los dígitos del 0 al 9?\n",
    "\n",
    "    b. ¿Cuántos tienen uno o más dígitos repetidos? Ej.: 2324, 5255, 6767, etc.\n",
    "\n",
    "    c. ¿Cuántos tienen los 4 dígitos repetidos? Ej.: 3333.\n",
    "\n",
    "    d. ¿Cuántos tienen dos dígitos (diferentes) repetidos dos veces cada uno? Ej.: 2424.\n",
    "\n",
    "    e. ¿Cuántos de estos repiten un dígito dos veces y los otros no se repiten? Ej.: 3137.\n",
    "\n",
    "    f. ¿Cuántos de estos repiten un dígito tres veces y el otro no se repite? Ej.: 9199.\n",
    "\n",
    "   "
   ]
  },
  {
   "cell_type": "code",
   "execution_count": null,
   "metadata": {},
   "outputs": [
    {
     "name": "stdout",
     "output_type": "stream",
     "text": [
      "El numero total de digitos de 4 que se pueden formar son: 9000\n",
      "El numero total de digitos de 4, que tienen 1 o mas numeros repetidos son: 4464\n",
      "Numero total de digitos de 4 que se repiten los 4 digitos: 9, excluyendo el evento {0000}\n",
      "Numero total de digitos de 4 que se repiten dos veces son: 243\n",
      "Numero total de digitos de 4 que se repinten escritamente 2 veces 1 par son 3888\n",
      "Numero total de digitos de 4 que se repinten tres veces y el otro no son 324\n"
     ]
    }
   ],
   "source": [
    "#Problema A4\n",
    "\n",
    "#A4\n",
    "\n",
    "S = it.product(range(10), repeat=4)\n",
    "valid_numbers = [k for k in S if k[0] != 0] \n",
    "# Exluide todo los tuples que inicial en 0, ya que se buscan solo los decimales, y un decimal no empieza con 0\n",
    "ansA = len(valid_numbers)\n",
    "print(f\"El numero total de digitos de 4 que se pueden formar son: {ansA}\")\n",
    "\n",
    "#9,000 números decimales de 4 dígitos\n",
    "\n",
    "#B4\n",
    "unrepeated_values = [k for k in valid_numbers if len(set(k)) == len(k)]\n",
    "ansBComplement = len(unrepeated_values)\n",
    "#if we know that there are 9000 tuples in total, \n",
    "# and we know that 4536 of them are unique, \n",
    "# so by the complementary property we can determine the solution of B with the following:\n",
    "ansB = ansA - ansBComplement\n",
    "print(f\"El numero total de digitos de 4, que tienen 1 o mas numeros repetidos son: {ansB}\")\n",
    "#4464 números con uno o más dígitos repetidos\n",
    "#C4\n",
    "repeated_digits = [int(\"\".join(map(str, combo)))for combo in valid_numbers  if len(set(combo)) == 1 ]\n",
    "ansC = len(repeated_digits)\n",
    "print(f\"Numero total de digitos de 4 que se repiten los 4 digitos: {ansC}, excluyendo el evento {{0000}}\")\n",
    "\n",
    "#9 números con los 4 dígitos repetidos\n",
    "#D4\n",
    "digitsTwice = [r for r in valid_numbers if len(set(r)) == 2 and all(r.count(digit) == 2 for digit in set(r))]\n",
    "ansD = len(digitsTwice)\n",
    "print(f\"Numero total de digitos de 4 que se repiten dos veces son: {ansD}\")\n",
    "#soln: 243\n",
    "#E4\n",
    "repeatedOnce = [r for r in valid_numbers if len(set(r)) == 3 and any(r.count(digit) == 2 for digit in set(r))]\n",
    "ansE = len(repeatedOnce)\n",
    "print(f\"Numero total de digitos de 4 que se repinten escritamente 2 veces 1 par son {ansE}\")\n",
    "#F4\n",
    "\n",
    "repeatedThreeTimes = [r for r in valid_numbers if len(set(r)) == 2 and any(r.count(digit) == 3 for digit in set(r))]\n",
    "ansD = len(repeatedThreeTimes)\n",
    "print(f\"Numero total de digitos de 4 que se repinten tres veces y el otro no son {ansD}\")\n",
    "\n",
    "#360 números que repiten un dígito tres veces y el otro no se repite"
   ]
  },
  {
   "cell_type": "markdown",
   "metadata": {},
   "source": [
    "## MUY IMPORTANTE sobre el Problema 4\n",
    "\n",
    "El problema 4 no define claramente cual es el espacio muestral en este ejercisio y por ende los incisos no\n",
    "se entiende cual resultado se deberian de considerar. \n",
    "    \n",
    "A lo que me refiero especificamente es lo siguente, el caso donde el valor \"0\" \n",
    "esta en el primer digito o primer elemento parte del espacio de eventos, i.e. \\{0143\\}, \\{0249\\} etc?\n",
    "\n",
    "La confusion es, se deberia de considerar el caso  anteriormente mencionado parte del sigma-algebra?\n",
    "\n",
    "Nosotros lo tomamos como \"NO\", y la razon es considere el siguente ejemplo: \n",
    "el numero \"0143\" es equivalente a \"143\", pero \"143\" no tiene 4 digitos,\n",
    "y por ello no es parte del espacio muestral, dado que el espacio muestral son todos aquellos numeros que tiene 4 digitos. \n",
    "\n",
    "En el codigo, esto fue programado como \"valid_numbers = [k for k in S if k[0] != 0]\", y por ello en todos los metodos/loops\n",
    "donde ejecutan \"valid_numbers\" no consideran los eventos donde el \"0\" esta posicionado como primer digito. Y por ello tengo los \n",
    "resultados que usted puede revisar en el chunk anterior.\n",
    "\n",
    "Menciono esto porque en este grupo nos estaban dando resultados diferentes y sin\n",
    "mucha dificultad se logro observar que los resultados varian dependiendo de como uno interpreta el espacio muestra. Claramente, no se quiere\n",
    "perder puntos porque no se tuvo los \"resultados adecuados\", y por ello estoy escribiendo esto para justificar los resultados anteriormente mencionados.\n",
    "\n",
    "Abajo copie el codigo, modificando 'valid_numbers' para que incluya los eventos que tienen el 0 al principio, y como puede observar los resultados son diferentes a los que fueron anteriormente mencioados.\n"
   ]
  },
  {
   "cell_type": "code",
   "execution_count": 33,
   "metadata": {},
   "outputs": [
    {
     "name": "stdout",
     "output_type": "stream",
     "text": [
      "Numero total de digitos de 4 que se repiten dos veces son: 270\n",
      "Numero total de digitos de 4 que se repinten escritamente 2 veces 1 par son 4320\n",
      "Numero total de digitos de 4 que se repinten tres veces y el otro no son 360\n"
     ]
    }
   ],
   "source": [
    "#Problema A4 -modificado\n",
    "#Estos fueron los resultados que no coincidiean en este grupo.\n",
    "S = it.product(range(10), repeat=4)\n",
    "valid_numbers = [k for k in S] \n",
    "\n",
    "#D4\n",
    "digitsTwice = [r for r in valid_numbers if len(set(r)) == 2 and all(r.count(digit) == 2 for digit in set(r))]\n",
    "ansD = len(digitsTwice)\n",
    "print(f\"Numero total de digitos de 4 que se repiten dos veces son: {ansD}\")\n",
    "\n",
    "#E4\n",
    "repeatedOnce = [r for r in valid_numbers if len(set(r)) == 3 and any(r.count(digit) == 2 for digit in set(r))]\n",
    "ansE = len(repeatedOnce)\n",
    "print(f\"Numero total de digitos de 4 que se repinten escritamente 2 veces 1 par son {ansE}\")\n",
    "#F4\n",
    "\n",
    "repeatedThreeTimes = [r for r in valid_numbers if len(set(r)) == 2 and any(r.count(digit) == 3 for digit in set(r))]\n",
    "ansD = len(repeatedThreeTimes)\n",
    "print(f\"Numero total de digitos de 4 que se repinten tres veces y el otro no son {ansD}\")\n"
   ]
  }
 ],
 "metadata": {
  "kernelspec": {
   "display_name": "Python 3",
   "language": "python",
   "name": "python3"
  },
  "language_info": {
   "codemirror_mode": {
    "name": "ipython",
    "version": 3
   },
   "file_extension": ".py",
   "mimetype": "text/x-python",
   "name": "python",
   "nbconvert_exporter": "python",
   "pygments_lexer": "ipython3",
   "version": "3.12.3"
  }
 },
 "nbformat": 4,
 "nbformat_minor": 2
}
