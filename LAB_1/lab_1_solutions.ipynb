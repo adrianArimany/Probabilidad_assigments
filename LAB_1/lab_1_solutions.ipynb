{
 "cells": [
  {
   "cell_type": "code",
   "execution_count": 12,
   "metadata": {},
   "outputs": [],
   "source": [
    "#USE for import any package or internal file.\n",
    "import itertools as it\n"
   ]
  },
  {
   "cell_type": "markdown",
   "metadata": {},
   "source": [
    "\n",
    "# Lab 1 -\n",
    "\n",
    "1. Una empresa tiene un grupo de 8 empleados Ana, Bruno, Carlos, Dina, Eli, Frank,\n",
    "Gaby y Hugo, de los cuales necesita formar equipos de 3 personas para un proyecto.\n",
    "\n",
    "    a. ¿Cuántos equipos diferentes de 3 personas pueden formarse? ¿En cuántos de éstos está Ana?\n",
    "\n",
    "    b. ¿Cuántos equipos diferentes de 4 personas pueden formarse? ¿En cuántos de éstos no está Frank?"
   ]
  },
  {
   "cell_type": "code",
   "execution_count": 22,
   "metadata": {},
   "outputs": [
    {
     "name": "stdout",
     "output_type": "stream",
     "text": [
      "Problema A1:\n",
      "El numero total de grupos de 3 es 56\n",
      "La cantidad de grupos que contienen Ana es de 21\n",
      "Problema B1:\n",
      "El numero total de grupos de 4 es 70\n",
      "La cantidad de grupos que contienen Frank es de 35\n"
     ]
    }
   ],
   "source": [
    "# Problema A1\n",
    "print(\"Problema A1:\")\n",
    "S = {\"A\", \"B\", \"C\", \"D\", \"E\", \"F\", \"G\", \"H\"}\n",
    "\n",
    "# Para simplificar, tomemos solo la primera letra de los nombres.\n",
    "re1 = set(it.combinations(S, 3))\n",
    "result = len(re1)\n",
    "\n",
    "getA = 0\n",
    "for i in re1:\n",
    "     if \"A\" in i:\n",
    "          getA += 1\n",
    "         \n",
    "         \n",
    "print(f\"El numero total de grupos de 3 es {result}\")\n",
    "print(f\"La cantidad de grupos que contienen Ana es de {getA}\")\n",
    "\n",
    "# Resultado: 56, 21\n",
    "\n",
    "# Problema B1\n",
    "print(\"Problema B1:\")\n",
    "\n",
    "re2 = set(it.combinations(S, 4))\n",
    "result = len(re2)\n",
    "\n",
    "getF = 0\n",
    "for i in re2:\n",
    "     if \"A\" in i:\n",
    "          getF += 1\n",
    "         \n",
    "         \n",
    "print(f\"El numero total de grupos de 4 es {result}\")\n",
    "print(f\"La cantidad de grupos que contienen Frank es de {getF}\")\n",
    "\n",
    "#Resultado: 70, 35"
   ]
  },
  {
   "cell_type": "markdown",
   "metadata": {},
   "source": [
    "## Problema 2:\n",
    "    a. ¿Cuántas palabras diferentes se pueden formar usando todas las letras de la palabra SEERESS?\n",
    "\n",
    "    b. ¿Cuántas de estas palabras comienzan con S y terminan con R?\n",
    "    \n",
    "    c. ¿Cuántas palabras diferentes se pueden formar usando cinco o más letras de la palabra SEERESS?"
   ]
  },
  {
   "cell_type": "code",
   "execution_count": 26,
   "metadata": {},
   "outputs": [
    {
     "name": "stdout",
     "output_type": "stream",
     "text": [
      "El conjunto de posibles palabras usando la palabra SEERESS es S = 140\n",
      "La cantidad de palabras que empiezan en S y terminan en R es 10\n"
     ]
    },
    {
     "ename": "TypeError",
     "evalue": "'>' not supported between instances of 'tuple' and 'int'",
     "output_type": "error",
     "traceback": [
      "\u001b[0;31m---------------------------------------------------------------------------\u001b[0m",
      "\u001b[0;31mTypeError\u001b[0m                                 Traceback (most recent call last)",
      "Cell \u001b[0;32mIn[26], line 15\u001b[0m\n\u001b[1;32m     12\u001b[0m \u001b[38;5;28mprint\u001b[39m(\u001b[38;5;124mf\u001b[39m\u001b[38;5;124m\"\u001b[39m\u001b[38;5;124mLa cantidad de palabras que empiezan en S y terminan en R es \u001b[39m\u001b[38;5;132;01m{\u001b[39;00mansB\u001b[38;5;132;01m}\u001b[39;00m\u001b[38;5;124m\"\u001b[39m)\n\u001b[1;32m     13\u001b[0m \u001b[38;5;66;03m#result 10\u001b[39;00m\n\u001b[1;32m     14\u001b[0m \u001b[38;5;66;03m#Problema C2\u001b[39;00m\n\u001b[0;32m---> 15\u001b[0m ansC \u001b[38;5;241m=\u001b[39m \u001b[38;5;28;43msum\u001b[39;49m\u001b[43m(\u001b[49m\u001b[38;5;241;43m1\u001b[39;49m\u001b[43m \u001b[49m\u001b[38;5;28;43;01mfor\u001b[39;49;00m\u001b[43m \u001b[49m\u001b[43mk\u001b[49m\u001b[43m \u001b[49m\u001b[38;5;129;43;01min\u001b[39;49;00m\u001b[43m \u001b[49m\u001b[43mEn\u001b[49m\u001b[43m \u001b[49m\u001b[38;5;28;43;01mif\u001b[39;49;00m\u001b[43m \u001b[49m\u001b[43mk\u001b[49m\u001b[43m \u001b[49m\u001b[38;5;241;43m>\u001b[39;49m\u001b[43m \u001b[49m\u001b[38;5;241;43m2\u001b[39;49m\u001b[43m)\u001b[49m\n\u001b[1;32m     16\u001b[0m \u001b[38;5;28mprint\u001b[39m(ansC)\n\u001b[1;32m     18\u001b[0m \u001b[38;5;66;03m#Result 530\u001b[39;00m\n",
      "Cell \u001b[0;32mIn[26], line 15\u001b[0m, in \u001b[0;36m<genexpr>\u001b[0;34m(.0)\u001b[0m\n\u001b[1;32m     12\u001b[0m \u001b[38;5;28mprint\u001b[39m(\u001b[38;5;124mf\u001b[39m\u001b[38;5;124m\"\u001b[39m\u001b[38;5;124mLa cantidad de palabras que empiezan en S y terminan en R es \u001b[39m\u001b[38;5;132;01m{\u001b[39;00mansB\u001b[38;5;132;01m}\u001b[39;00m\u001b[38;5;124m\"\u001b[39m)\n\u001b[1;32m     13\u001b[0m \u001b[38;5;66;03m#result 10\u001b[39;00m\n\u001b[1;32m     14\u001b[0m \u001b[38;5;66;03m#Problema C2\u001b[39;00m\n\u001b[0;32m---> 15\u001b[0m ansC \u001b[38;5;241m=\u001b[39m \u001b[38;5;28msum\u001b[39m(\u001b[38;5;241m1\u001b[39m \u001b[38;5;28;01mfor\u001b[39;00m k \u001b[38;5;129;01min\u001b[39;00m En \u001b[38;5;28;01mif\u001b[39;00m \u001b[43mk\u001b[49m\u001b[43m \u001b[49m\u001b[38;5;241;43m>\u001b[39;49m\u001b[43m \u001b[49m\u001b[38;5;241;43m2\u001b[39;49m)\n\u001b[1;32m     16\u001b[0m \u001b[38;5;28mprint\u001b[39m(ansC)\n\u001b[1;32m     18\u001b[0m \u001b[38;5;66;03m#Result 530\u001b[39;00m\n",
      "\u001b[0;31mTypeError\u001b[0m: '>' not supported between instances of 'tuple' and 'int'"
     ]
    }
   ],
   "source": [
    "#Problema A2\n",
    "S = \"SEERESS\"\n",
    "\n",
    "En = set(it.permutations(S))\n",
    "resultA = len(En)\n",
    "\n",
    "print(f\"El conjunto de posibles palabras usando la palabra SEERESS es S = {resultA}\")\n",
    "\n",
    "#result 140\n",
    "#Problema B2\n",
    "ansB = sum(1 for k in En if k[0] == \"S\" and k[6] == \"R\")\n",
    "print(f\"La cantidad de palabras que empiezan en S y terminan en R es {ansB}\")\n",
    "#result 10\n",
    "#Problema C2\n",
    "\n",
    "\n",
    "#Result 530"
   ]
  },
  {
   "cell_type": "markdown",
   "metadata": {},
   "source": [
    "## Problema 3: \n",
    "    ¿Cuántos números entre 1 y 1,000,000 son primos?"
   ]
  },
  {
   "cell_type": "code",
   "execution_count": null,
   "metadata": {},
   "outputs": [],
   "source": []
  },
  {
   "cell_type": "markdown",
   "metadata": {},
   "source": [
    "## Problema 4\n",
    "    a. ¿Cuántos números decimales de 4 dígitos se pueden formar usando los dígitos del 0 al 9?\n",
    "\n",
    "    b. ¿Cuántos tienen uno o más dígitos repetidos? Ej.: 2324, 5255, 6767, etc.\n",
    "\n",
    "    c. ¿Cuántos tienen los 4 dígitos repetidos? Ej.: 3333.\n",
    "\n",
    "    d. ¿Cuántos tienen dos dígitos (diferentes) repetidos dos veces cada uno? Ej.: 2424.\n",
    "\n",
    "    e. ¿Cuántos de estos repiten un dígito dos veces y los otros no se repiten? Ej.: 3137.\n",
    "\n",
    "    f. ¿Cuántos de estos repiten un dígito tres veces y el otro no se repite? Ej.: 9199."
   ]
  },
  {
   "cell_type": "code",
   "execution_count": null,
   "metadata": {},
   "outputs": [],
   "source": [
    "#Problema A4\n",
    "\n",
    "\n"
   ]
  }
 ],
 "metadata": {
  "kernelspec": {
   "display_name": "Python 3",
   "language": "python",
   "name": "python3"
  },
  "language_info": {
   "codemirror_mode": {
    "name": "ipython",
    "version": 3
   },
   "file_extension": ".py",
   "mimetype": "text/x-python",
   "name": "python",
   "nbconvert_exporter": "python",
   "pygments_lexer": "ipython3",
   "version": "3.12.3"
  }
 },
 "nbformat": 4,
 "nbformat_minor": 2
}
